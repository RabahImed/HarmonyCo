{
 "cells": [
  {
   "metadata": {},
   "cell_type": "markdown",
   "source": "# Importation des bibliothèques nécessaires",
   "id": "73149ab25d7aa0cb"
  },
  {
   "metadata": {},
   "cell_type": "code",
   "outputs": [],
   "execution_count": null,
   "source": [
    "import numpy as np\n",
    "import tensorflow as tf\n",
    "from tensorflow.keras.models import Sequential\n",
    "from tensorflow.keras.layers import Dense, SimpleRNN, Dropout\n",
    "from tensorflow.keras.optimizers import Adam\n",
    "from sklearn.model_selection import train_test_split\n",
    "from sklearn.metrics import mean_squared_error"
   ],
   "id": "a71fff35f4d5f198"
  },
  {
   "metadata": {},
   "cell_type": "markdown",
   "source": "# Définir la graine aléatoire pour la reproductibilité",
   "id": "85541b25b18a12fc"
  },
  {
   "metadata": {},
   "cell_type": "code",
   "outputs": [],
   "execution_count": null,
   "source": [
    "np.random.seed(42)\n",
    "tf.random.set_seed(42)\n"
   ],
   "id": "88789db969e0dfac"
  },
  {
   "metadata": {},
   "cell_type": "markdown",
   "source": "# Titre : Préparation des données\n",
   "id": "f5139a4c9228c9b7"
  },
  {
   "metadata": {},
   "cell_type": "markdown",
   "source": "",
   "id": "b604c50d039a01e9"
  },
  {
   "metadata": {},
   "cell_type": "code",
   "outputs": [],
   "execution_count": null,
   "source": [
    "# Supposons que nous ayons une fonction pour générer ou charger des permutations\n",
    "def generate_permutations_data(n_samples, n_permutations):\n",
    "    X = np.random.permutation(np.arange(n_permutations).reshape(1, -1)).repeat(n_samples, axis=0)\n",
    "    y = np.median(X, axis=1)\n",
    "    return X, y\n"
   ],
   "id": "6a44a1c43e1a4297"
  },
  {
   "metadata": {},
   "cell_type": "code",
   "outputs": [],
   "execution_count": null,
   "source": [
    "# Générer des données synthétiques\n",
    "n_samples = 10000  # Nombre d'échantillons\n",
    "n_permutations = 10  # Longueur de chaque permutation\n",
    "X, y = generate_permutations_data(n_samples, n_permutations)"
   ],
   "id": "884dddc986a8790b"
  },
  {
   "metadata": {},
   "cell_type": "code",
   "outputs": [],
   "execution_count": null,
   "source": [
    "# Normaliser les données d'entrée\n",
    "X = X / float(n_permutations - 1)\n",
    "y = y / float(n_permutations - 1)"
   ],
   "id": "bb6c4602a9de736c"
  },
  {
   "metadata": {},
   "cell_type": "code",
   "outputs": [],
   "execution_count": null,
   "source": [
    "# Diviser les données en ensembles d'entraînement et de test\n",
    "X_train, X_test, y_train, y_test = train_test_split(X, y, test_size=0.2, random_state=42)\n"
   ],
   "id": "de9f4d3483a88210"
  },
  {
   "metadata": {},
   "cell_type": "markdown",
   "source": "# Construction du modèle RNN",
   "id": "14c46174676ab3ac"
  },
  {
   "metadata": {},
   "cell_type": "code",
   "outputs": [],
   "execution_count": null,
   "source": [
    "# Initialiser le modèle RNN\n",
    "model = Sequential()"
   ],
   "id": "7e827320705b647b"
  },
  {
   "metadata": {},
   "cell_type": "code",
   "outputs": [],
   "execution_count": null,
   "source": [
    "# Ajouter la première couche RNN avec 128 unités\n",
    "model.add(SimpleRNN(128, input_shape=(n_permutations, 1), activation='relu', return_sequences=True))\n",
    "# Ajouter une couche de dropout pour éviter le surapprentissage\n",
    "model.add(Dropout(0.2))"
   ],
   "id": "a14a917be8e65fb"
  },
  {
   "metadata": {},
   "cell_type": "code",
   "outputs": [],
   "execution_count": null,
   "source": [
    "# Ajouter la deuxième couche RNN avec 64 unités\n",
    "model.add(SimpleRNN(64, activation='relu', return_sequences=True))\n",
    "# Ajouter une couche de dropout pour éviter le surapprentissage\n",
    "model.add(Dropout(0.2))"
   ],
   "id": "7b055af537f5764a"
  },
  {
   "metadata": {},
   "cell_type": "code",
   "outputs": [],
   "execution_count": null,
   "source": [
    "# Ajouter la troisième couche RNN avec 32 unités\n",
    "model.add(SimpleRNN(32, activation='relu'))\n",
    "# Ajouter une couche de dropout pour éviter le surapprentissage\n",
    "model.add(Dropout(0.2))\n"
   ],
   "id": "6dda7fbf206984d7"
  },
  {
   "metadata": {},
   "cell_type": "code",
   "outputs": [],
   "execution_count": null,
   "source": [
    "# Ajouter la couche de sortie avec une seule unité (pour la régression)\n",
    "model.add(Dense(1))"
   ],
   "id": "10fb50bba4848271"
  },
  {
   "metadata": {},
   "cell_type": "markdown",
   "source": "#  Compilation du modèle",
   "id": "92020e0f60092ea0"
  },
  {
   "metadata": {},
   "cell_type": "code",
   "outputs": [],
   "execution_count": null,
   "source": [
    "# Compiler le modèle avec l'optimiseur Adam et la fonction de perte de l'erreur quadratique moyenne\n",
    "model.compile(optimizer=Adam(learning_rate=0.001), loss='mean_squared_error')\n"
   ],
   "id": "4c397a3f05d700ce"
  },
  {
   "metadata": {},
   "cell_type": "markdown",
   "source": "# Titre : Entraînement du modèle\n",
   "id": "fb415e99aa680005"
  },
  {
   "metadata": {},
   "cell_type": "code",
   "outputs": [],
   "execution_count": null,
   "source": [
    "# Entraîner le modèle sur les données d'entraînement\n",
    "history = model.fit(X_train, y_train, epochs=100, batch_size=32, validation_data=(X_test, y_test))\n"
   ],
   "id": "20dc6cfe730049d3"
  },
  {
   "metadata": {},
   "cell_type": "markdown",
   "source": "# Titre : Évaluation du modèle",
   "id": "a60e33c71dbe9318"
  },
  {
   "metadata": {},
   "cell_type": "code",
   "outputs": [],
   "execution_count": null,
   "source": [
    "# Évaluer le modèle sur les données de test\n",
    "test_loss = model.evaluate(X_test, y_test)\n",
    "print(f'Perte sur les données de test : {test_loss:.4f}')"
   ],
   "id": "44d84c1c5afb5dae"
  },
  {
   "metadata": {},
   "cell_type": "code",
   "outputs": [],
   "execution_count": null,
   "source": [
    "# Faire des prédictions sur les données de test\n",
    "y_pred = model.predict(X_test)\n"
   ],
   "id": "accc25360b4ab6c1"
  },
  {
   "metadata": {},
   "cell_type": "code",
   "outputs": [],
   "execution_count": null,
   "source": [
    "# Calculer l'erreur quadratique moyenne entre les prédictions et les valeurs réelles\n",
    "mse = mean_squared_error(y_test, y_pred)\n",
    "print(f'Erreur quadratique moyenne sur les données de test : {mse:.4f}')"
   ],
   "id": "604e964bd13ddd7e"
  },
  {
   "metadata": {},
   "cell_type": "markdown",
   "source": "# Titre : Traçage de la perte d'entraînement et de validation",
   "id": "30a3d524b3133554"
  },
  {
   "metadata": {},
   "cell_type": "code",
   "outputs": [],
   "execution_count": null,
   "source": [
    "# Tracer la perte d'entraînement et de validation au fil des époques\n",
    "import matplotlib.pyplot as plt\n",
    "\n",
    "plt.figure(figsize=(10, 6))\n",
    "plt.plot(history.history['loss'], label='Perte d\\'entraînement')\n",
    "plt.plot(history.history['val_loss'], label='Perte de validation')\n",
    "plt.title('Perte d\\'entraînement et de validation au fil des époques')\n",
    "plt.xlabel('Époques')\n",
    "plt.ylabel('Perte')\n",
    "plt.legend()\n",
    "plt.show()"
   ],
   "id": "86652cb905e53c64"
  },
  {
   "metadata": {},
   "cell_type": "markdown",
   "source": [
    "## Le modèle a été entraîné pour prédire la médiane des permutations en utilisant un RNN.\n",
    "## La performance du modèle peut être encore améliorée en ajustant les hyperparamètres,\n",
    "## en ajoutant des techniques de régularisation, ou en expérimentant avec différentes architectures de réseau."
   ],
   "id": "2ef1f6b5497affd"
  },
  {
   "metadata": {},
   "cell_type": "markdown",
   "source": "",
   "id": "e88c91a9b792c6a8"
  }
 ],
 "metadata": {
  "kernelspec": {
   "display_name": "Python 3",
   "language": "python",
   "name": "python3"
  },
  "language_info": {
   "codemirror_mode": {
    "name": "ipython",
    "version": 2
   },
   "file_extension": ".py",
   "mimetype": "text/x-python",
   "name": "python",
   "nbconvert_exporter": "python",
   "pygments_lexer": "ipython2",
   "version": "2.7.6"
  }
 },
 "nbformat": 4,
 "nbformat_minor": 5
}
